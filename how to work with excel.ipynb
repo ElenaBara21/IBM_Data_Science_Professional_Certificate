{
 "cells": [
  {
   "cell_type": "code",
   "execution_count": null,
   "metadata": {},
   "outputs": [],
   "source": [
    "# import pandas as pd  \n",
    "\n",
    "# df = pd.read_excel (r'Path where the Excel file is stored\\File name.xlsx') \n",
    "\n",
    "# print (df)\n",
    "\n",
    "# And if you have a specific Excel sheet that you’d like to import, you may then apply:\n",
    "\n",
    "# import pandas as pd  df = pd.read_excel (r'Path where the Excel file is stored\\File name.xlsx', sheet_name='your Excel sheet name') print (df)"
   ]
  },
  {
   "cell_type": "code",
   "execution_count": null,
   "metadata": {},
   "outputs": [],
   "source": []
  },
  {
   "cell_type": "code",
   "execution_count": null,
   "metadata": {},
   "outputs": [],
   "source": [
    "# We are happy to assist you. Please check first if your file have .xlsx format or .csv file format. If the file is csv format then use the following code :\n",
    "\n",
    "# import pandas as pd  \n",
    "\n",
    "# df = pd.read_csv(r'Path where the Excel file is stored\\File name.csv') \n",
    "\n",
    "# print (df)\n",
    "\n",
    "# Also if it gives unicode error then use forward slashes instead of backward slashes everywhere like this :\n",
    "\n",
    "# df = pd.read_csv(r'Path where the Excel file is stored/File name.csv') \n",
    "\n",
    "# You can check the file format by right clicking on the file and then click to properties.\n",
    "\n",
    "# # Hope this helps."
   ]
  },
  {
   "cell_type": "code",
   "execution_count": 4,
   "metadata": {},
   "outputs": [
    {
     "name": "stdout",
     "output_type": "stream",
     "text": [
      "       Year Industry_aggregation_NZSIOC Industry_code_NZSIOC  \\\n",
      "0      2020                     Level 1                99999   \n",
      "1      2020                     Level 1                99999   \n",
      "2      2020                     Level 1                99999   \n",
      "3      2020                     Level 1                99999   \n",
      "4      2020                     Level 1                99999   \n",
      "...     ...                         ...                  ...   \n",
      "37075  2013                     Level 3                 ZZ11   \n",
      "37076  2013                     Level 3                 ZZ11   \n",
      "37077  2013                     Level 3                 ZZ11   \n",
      "37078  2013                     Level 3                 ZZ11   \n",
      "37079  2013                     Level 3                 ZZ11   \n",
      "\n",
      "             Industry_name_NZSIOC               Units Variable_code  \\\n",
      "0                  All industries  Dollars (millions)           H01   \n",
      "1                  All industries  Dollars (millions)           H04   \n",
      "2                  All industries  Dollars (millions)           H05   \n",
      "3                  All industries  Dollars (millions)           H07   \n",
      "4                  All industries  Dollars (millions)           H08   \n",
      "...                           ...                 ...           ...   \n",
      "37075  Food product manufacturing          Percentage           H37   \n",
      "37076  Food product manufacturing          Percentage           H38   \n",
      "37077  Food product manufacturing          Percentage           H39   \n",
      "37078  Food product manufacturing          Percentage           H40   \n",
      "37079  Food product manufacturing          Percentage           H41   \n",
      "\n",
      "                                         Variable_name      Variable_category  \\\n",
      "0                                         Total income  Financial performance   \n",
      "1      Sales, government funding, grants and subsidies  Financial performance   \n",
      "2                    Interest, dividends and donations  Financial performance   \n",
      "3                                 Non-operating income  Financial performance   \n",
      "4                                    Total expenditure  Financial performance   \n",
      "...                                                ...                    ...   \n",
      "37075                                      Quick ratio       Financial ratios   \n",
      "37076              Margin on sales of goods for resale       Financial ratios   \n",
      "37077                                 Return on equity       Financial ratios   \n",
      "37078                           Return on total assets       Financial ratios   \n",
      "37079                            Liabilities structure       Financial ratios   \n",
      "\n",
      "         Value                             Industry_code_ANZSIC06  \n",
      "0      733,258  ANZSIC06 divisions A-S (excluding classes K633...  \n",
      "1      660,630  ANZSIC06 divisions A-S (excluding classes K633...  \n",
      "2       54,342  ANZSIC06 divisions A-S (excluding classes K633...  \n",
      "3       18,285  ANZSIC06 divisions A-S (excluding classes K633...  \n",
      "4      654,872  ANZSIC06 divisions A-S (excluding classes K633...  \n",
      "...        ...                                                ...  \n",
      "37075       52  ANZSIC06 groups C111, C112, C113, C114, C115, ...  \n",
      "37076       40  ANZSIC06 groups C111, C112, C113, C114, C115, ...  \n",
      "37077       12  ANZSIC06 groups C111, C112, C113, C114, C115, ...  \n",
      "37078        5  ANZSIC06 groups C111, C112, C113, C114, C115, ...  \n",
      "37079       46  ANZSIC06 groups C111, C112, C113, C114, C115, ...  \n",
      "\n",
      "[37080 rows x 10 columns]\n"
     ]
    }
   ],
   "source": [
    "import pandas as pd  \n",
    "\n",
    "df = pd.read_csv(r'annual-enterprise-survey-2020-financial-year-provisional-csv.csv') \n",
    "\n",
    "print (df)\n",
    "\n",
    "# (2 )For excel file :\n",
    "\n",
    "# !pip install openpyxl\n",
    "\n",
    "# import pandas as pd  \n",
    "\n",
    "# df = pd.read_csv(r'filename.csv') \n",
    "\n",
    "# print (df)\n"
   ]
  }
 ],
 "metadata": {
  "kernelspec": {
   "display_name": "Python 3",
   "language": "python",
   "name": "python3"
  },
  "language_info": {
   "codemirror_mode": {
    "name": "ipython",
    "version": 3
   },
   "file_extension": ".py",
   "mimetype": "text/x-python",
   "name": "python",
   "nbconvert_exporter": "python",
   "pygments_lexer": "ipython3",
   "version": "3.8.5"
  }
 },
 "nbformat": 4,
 "nbformat_minor": 4
}
